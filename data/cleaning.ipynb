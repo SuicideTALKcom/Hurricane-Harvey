{
 "cells": [
  {
   "cell_type": "code",
   "execution_count": null,
   "metadata": {},
   "outputs": [],
   "source": [
    "# Cleaning\n",
    "\n",
    "### From Margret's Notebook\n",
    "\n",
    "twitter_times = pd.read_csv(\"../data/rawdata/Twitter_dates.csv\")\n",
    "twitter_times.head()\n",
    "\n",
    "\n",
    "#rainfall = pd.read_csv(\"../data/rawdata/water_gauge_rain.csv\")\n",
    "#rainfall.head()\n",
    "\n",
    "y = twitter_times[\"Number of tweets\"]\n",
    "x = twitter_times[\"Dates\"]\n",
    "\n",
    "#import matplotlib.dates as mdates\n",
    "\n",
    "plt.title(\"Hurricane Harvey on Twitter\")\n",
    "plt.xlabel(\"Date\")\n",
    "plt.ylabel(\"Number of tweets\")\n",
    "\n",
    "plt.plot(x,y)\n",
    "#y = np.array([4,4,4,5,5,6,5,5,4,4,4])\n",
    "#x = np.arange(y.shape[0])\n",
    "#my_xticks = np.array(['a','b','c','d','e','f','g','h','i','j','k'])\n",
    "frequency = 5\n",
    "#plt.plot(x, y)\n",
    "plt.xticks(x[::frequency],rotation=30)\n",
    "\n",
    "\n",
    "plt.fill_between(x,y, color=\"blue\", alpha=0.3)\n",
    "\n",
    "plt.show()\n",
    "plt.savefig(\"../images/HurricaneHarveyTweets.png\")\n",
    "\n",
    "rainfall[\"Total_rainfall\"] = rainfall[rainfall.columns].sum(axis=1)\n",
    "rainfall[\"Avg_rainfall\"] = rainfall[\"Total_rainfall\"] / (len(rainfall.columns) - 1)\n",
    "\n",
    "harvey_rainfall = rainfall.truncate(before=\"8/18/2017\", after=\"9/22/2017\")                                \n",
    "harvey_rainfall\n",
    "\n",
    "#x = rainfall[\"Date\"]\n",
    "#y = rainfall[\"Total_rainfall\"]\n",
    "\n",
    "#plt.title(\"Total rainfall in bayou\")\n",
    "#plt.xlabel(\"Date\")\n",
    "#plt.ylabel(\"Rain (inches)\")\n",
    "\n",
    "#plt.fill_between(x,y, color=\"red\", alpha=0.3)\n",
    "#plt.plot(x,y)\n",
    "#plt.show()"
   ]
  },
  {
   "cell_type": "code",
   "execution_count": null,
   "metadata": {},
   "outputs": [],
   "source": []
  }
 ],
 "metadata": {
  "kernelspec": {
   "display_name": "Python 3",
   "language": "python",
   "name": "python3"
  },
  "language_info": {
   "codemirror_mode": {
    "name": "ipython",
    "version": 3
   },
   "file_extension": ".py",
   "mimetype": "text/x-python",
   "name": "python",
   "nbconvert_exporter": "python",
   "pygments_lexer": "ipython3",
   "version": "3.7.0"
  }
 },
 "nbformat": 4,
 "nbformat_minor": 2
}
